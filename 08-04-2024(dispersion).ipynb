{
 "cells": [
  {
   "cell_type": "code",
   "execution_count": 10,
   "id": "e8ade733",
   "metadata": {},
   "outputs": [
    {
     "name": "stdout",
     "output_type": "stream",
     "text": [
      "Enter the number of elements:5\n",
      "Enter the elements :6\n",
      "Enter the elements :4\n",
      "Enter the elements :8\n",
      "Enter the elements :2\n",
      "Enter the elements :1\n",
      "The created list is [6, 4, 8, 2, 1]\n",
      "Range (without function): 7\n",
      "Range (with function): 7\n"
     ]
    }
   ],
   "source": [
    "import numpy as np\n",
    "list1=[]\n",
    "n=int(input(\"Enter the number of elements:\"))\n",
    "for i in range(0,n):\n",
    "    ele=int(input(\"Enter the elements :\"))\n",
    "    list1.append(ele)\n",
    "print(\"The created list is\",list1) \n",
    "minimum = maximum = list1[0]\n",
    "for num in list1:\n",
    "    if num <= minimum:\n",
    "        minimum = num\n",
    "    if num >= maximum:\n",
    "        maximum = num\n",
    "range_value = maximum - minimum\n",
    "print(\"Range (without function):\", range_value)\n",
    "minelement=np.min(list1)\n",
    "maxelement=np.max(list1)\n",
    "rangevalue=maxelement-minelement\n",
    "print(\"Range (with function):\", rangevalue)\n"
   ]
  },
  {
   "cell_type": "code",
   "execution_count": 24,
   "id": "559824a8",
   "metadata": {},
   "outputs": [
    {
     "name": "stdout",
     "output_type": "stream",
     "text": [
      "Enter the number of elements:6\n",
      "Enter the elements :2\n",
      "Enter the elements :4\n",
      "Enter the elements :5\n",
      "Enter the elements :6\n",
      "Enter the elements :7\n",
      "Enter the elements :8\n",
      "The created list is [2, 4, 5, 6, 7, 8]\n",
      "variance (without function): 3.8888888888888893\n",
      "variance (without function): 3.8888888888888893\n"
     ]
    }
   ],
   "source": [
    "import numpy as np\n",
    "list1=[]\n",
    "n=int(input(\"Enter the number of elements:\"))\n",
    "for i in range(0,n):\n",
    "    ele=int(input(\"Enter the elements :\"))\n",
    "    list1.append(ele)\n",
    "print(\"The created list is\",list1) \n",
    "sum1=0\n",
    "for i in list1:\n",
    "    sum1+=i\n",
    "mean=sum1/len(list1)\n",
    "sumvalue=0\n",
    "for ele in list1:\n",
    "    sumvalue+=(ele-mean)**2\n",
    "variance=sumvalue/len(list1)\n",
    "print(\"variance (without function):\", variance)\n",
    "print(\"variance (without function):\", np.var(list1))"
   ]
  },
  {
   "cell_type": "code",
   "execution_count": 26,
   "id": "3b0f8914",
   "metadata": {},
   "outputs": [
    {
     "name": "stdout",
     "output_type": "stream",
     "text": [
      "The standard deviation without using function is: 1.9720265943665387\n",
      "standard deviation (with function): 1.9720265943665387\n"
     ]
    }
   ],
   "source": [
    "# Calculating the standard deviation\n",
    "std = variance ** 0.5\n",
    "print(\"The standard deviation without using function is:\", std)\n",
    "# Using the numpy function\n",
    "import numpy as np\n",
    "print(\"standard deviation (with function):\", np.std(list1))"
   ]
  },
  {
   "cell_type": "code",
   "execution_count": 23,
   "id": "e1a30d7d",
   "metadata": {},
   "outputs": [
    {
     "name": "stdout",
     "output_type": "stream",
     "text": [
      "Enter the number of elements:5\n",
      "Enter the elements :3\n",
      "Enter the elements :2\n",
      "Enter the elements :8\n",
      "Enter the elements :9\n",
      "Enter the elements :1\n",
      "The created list is [3, 2, 8, 9, 1]\n",
      "The list is: [3, 2, 8, 9, 1]\n",
      "IQR(without built-in): 6.5\n",
      "IQR(with built-in): 6.0\n"
     ]
    }
   ],
   "source": [
    "from scipy import stats\n",
    "def median(arr):\n",
    "    sorted_arr = sorted(arr)\n",
    "    n = len(sorted_arr)\n",
    "    if n % 2 == 0:\n",
    "        return (sorted_arr[n // 2 - 1] + sorted_arr[n // 2]) / 2\n",
    "    else:\n",
    "        return sorted_arr[n // 2]\n",
    "\n",
    "def quartiles(arr):\n",
    "    sorted_arr = sorted(arr)\n",
    "    n = len(sorted_arr)\n",
    "    q2 = median(sorted_arr)\n",
    "    \n",
    "    if n % 2 == 0:\n",
    "        lower_half = sorted_arr[:n // 2]\n",
    "        upper_half = sorted_arr[n // 2:]\n",
    "    else:\n",
    "        lower_half = sorted_arr[:n // 2+1]\n",
    "        upper_half = sorted_arr[n // 2 + 1:]\n",
    "\n",
    "    q1 = median(lower_half)\n",
    "    q3 = median(upper_half)\n",
    "\n",
    "    return q1, q2, q3\n",
    "\n",
    "def iqr(arr):\n",
    "    q1, q2, q3 = quartiles(arr)\n",
    "    return q3 - q1\n",
    "data=[]\n",
    "n=int(input(\"Enter the number of elements:\"))\n",
    "for i in range(0,n):\n",
    "    ele=int(input(\"Enter the elements :\"))\n",
    "    data.append(ele)\n",
    "print(\"The created list is\",data) \n",
    "\n",
    "\n",
    "print(\"The list is:\", data)\n",
    "print(\"IQR(without built-in):\", iqr(data))\n",
    "IQR = stats.iqr(data, interpolation='midpoint') \n",
    "print(\"IQR(with built-in):\", IQR)"
   ]
  },
  {
   "cell_type": "code",
   "execution_count": null,
   "id": "ba1e64a4",
   "metadata": {},
   "outputs": [],
   "source": []
  },
  {
   "cell_type": "code",
   "execution_count": null,
   "id": "13cd864f",
   "metadata": {},
   "outputs": [],
   "source": []
  }
 ],
 "metadata": {
  "kernelspec": {
   "display_name": "Python 3 (ipykernel)",
   "language": "python",
   "name": "python3"
  },
  "language_info": {
   "codemirror_mode": {
    "name": "ipython",
    "version": 3
   },
   "file_extension": ".py",
   "mimetype": "text/x-python",
   "name": "python",
   "nbconvert_exporter": "python",
   "pygments_lexer": "ipython3",
   "version": "3.9.12"
  }
 },
 "nbformat": 4,
 "nbformat_minor": 5
}
