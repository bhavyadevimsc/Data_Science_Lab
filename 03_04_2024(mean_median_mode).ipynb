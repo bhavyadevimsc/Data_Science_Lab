{
 "cells": [
  {
   "cell_type": "code",
   "execution_count": 1,
   "id": "ebcf1383",
   "metadata": {},
   "outputs": [
    {
     "name": "stdout",
     "output_type": "stream",
     "text": [
      "The list numbers: [1, 8, 4, 5]\n",
      " Mean: 4.5\n"
     ]
    }
   ],
   "source": [
    "list=[1,8,4,5]\n",
    "mean=sum(list)/len(list)\n",
    "print(\"The list numbers:\",list)\n",
    "print(\" Mean:\",mean)"
   ]
  },
  {
   "cell_type": "code",
   "execution_count": 2,
   "id": "d6e054ff",
   "metadata": {},
   "outputs": [
    {
     "name": "stdout",
     "output_type": "stream",
     "text": [
      "The list numbers: [1 8 4 5]\n",
      " Mean: 4.5\n"
     ]
    },
    {
     "name": "stderr",
     "output_type": "stream",
     "text": [
      "C:\\Users\\CCL\\anaconda3\\lib\\site-packages\\numpy\\_distributor_init.py:30: UserWarning: loaded more than 1 DLL from .libs:\n",
      "C:\\Users\\CCL\\anaconda3\\lib\\site-packages\\numpy\\.libs\\libopenblas.xwydx2ikjw2nmtwsfyngfuwkqu3lytcz.gfortran-win_amd64.dll\n",
      "C:\\Users\\CCL\\anaconda3\\lib\\site-packages\\numpy\\.libs\\libopenblas64__v0.3.21-gcc_10_3_0.dll\n",
      "  warnings.warn(\"loaded more than 1 DLL from .libs:\"\n"
     ]
    }
   ],
   "source": [
    "import numpy as np\n",
    "arr=np.array([1,8,4,5])\n",
    "mean=sum(arr)/len(arr)\n",
    "print(\"The list numbers:\",arr)\n",
    "print(\" Mean:\",mean)"
   ]
  },
  {
   "cell_type": "code",
   "execution_count": 4,
   "id": "34516495",
   "metadata": {},
   "outputs": [
    {
     "name": "stdout",
     "output_type": "stream",
     "text": [
      "The list numbers: [1 8 4 5]\n",
      " Mean: 4.5\n"
     ]
    }
   ],
   "source": [
    "import numpy as np\n",
    "arr=np.array([1,8,4,5])\n",
    "total=0\n",
    "for i in range(len(arr)):\n",
    "    total+=arr[i]\n",
    "mean=total/len(arr)\n",
    "print(\"The list numbers:\",arr)\n",
    "print(\" Mean:\",mean)"
   ]
  },
  {
   "cell_type": "code",
   "execution_count": 5,
   "id": "45c6ba8c",
   "metadata": {},
   "outputs": [
    {
     "name": "stdout",
     "output_type": "stream",
     "text": [
      "The list numbers: [1 8 4 5]\n",
      " Mean: 4.5\n"
     ]
    }
   ],
   "source": [
    "import numpy as np\n",
    "arr=np.array([1,8,4,5])\n",
    "mean=np.mean(arr)\n",
    "print(\"The list numbers:\",arr)\n",
    "print(\" Mean:\",mean)"
   ]
  },
  {
   "cell_type": "code",
   "execution_count": 10,
   "id": "d5e0d9e9",
   "metadata": {},
   "outputs": [
    {
     "name": "stdout",
     "output_type": "stream",
     "text": [
      "Enter no of elements:4\n",
      "Enter elements:1\n",
      "Enter elements:8\n",
      "Enter elements:4\n",
      "Enter elements:5\n",
      "The list numbers: [1, 8, 4, 5]\n",
      " Mean: 4.5\n"
     ]
    }
   ],
   "source": [
    "#without using built-in\n",
    "list=[]\n",
    "n=int(input(\"Enter no of elements:\"))\n",
    "for i in range(n):\n",
    "    list.append(int(input(\"Enter elements:\")))\n",
    "total=0\n",
    "for ele in list:\n",
    "    total+=ele\n",
    "mean=total/n\n",
    "print(\"The list numbers:\",list)\n",
    "print(\" Mean:\",mean)\n",
    "\n"
   ]
  },
  {
   "cell_type": "code",
   "execution_count": 11,
   "id": "2cdb75e3",
   "metadata": {},
   "outputs": [
    {
     "name": "stdout",
     "output_type": "stream",
     "text": [
      "Enter no of elements:4\n",
      "Enter elements:1\n",
      "Enter elements:8\n",
      "Enter elements:4\n",
      "Enter elements:5\n",
      "The list numbers: [1, 8, 4, 5]\n",
      " Mean: 4.5\n"
     ]
    }
   ],
   "source": [
    "list=[]\n",
    "n=int(input(\"Enter no of elements:\"))\n",
    "for i in range(n):\n",
    "    list.append(int(input(\"Enter elements:\")))\n",
    "mean=np.mean(arr)\n",
    "print(\"The list numbers:\",list)\n",
    "print(\" Mean:\",mean)\n",
    "\n"
   ]
  },
  {
   "cell_type": "code",
   "execution_count": 13,
   "id": "6a270ff7",
   "metadata": {},
   "outputs": [
    {
     "name": "stdout",
     "output_type": "stream",
     "text": [
      "Enter no of elements:5\n",
      "Enter elements:7\n",
      "Enter elements:6\n",
      "Enter elements:4\n",
      "Enter elements:8\n",
      "Enter elements:3\n",
      "List elements are: [7, 6, 4, 8, 3]\n",
      "Median: 6.0\n"
     ]
    }
   ],
   "source": [
    "#median using built-in\n",
    "list=[]\n",
    "n=int(input(\"Enter no of elements:\"))\n",
    "for i in range(n):\n",
    "    list.append(int(input(\"Enter elements:\")))\n",
    "print(\"List elements are:\",list)\n",
    "median=np.median(list)\n",
    "print(\"Median:\",median)"
   ]
  },
  {
   "cell_type": "code",
   "execution_count": 15,
   "id": "2d1ebe20",
   "metadata": {},
   "outputs": [
    {
     "name": "stdout",
     "output_type": "stream",
     "text": [
      "Enter no of elements:5\n",
      "Enter elements:7\n",
      "Enter elements:6\n",
      "Enter elements:4\n",
      "Enter elements:8\n",
      "Enter elements:3\n",
      "List elements are: [7, 6, 4, 8, 3]\n",
      "The sorted elements are: [3, 4, 6, 7, 8]\n",
      "Median: 6\n"
     ]
    }
   ],
   "source": [
    "#median without using built-in\n",
    "list=[]\n",
    "n=int(input(\"Enter no of elements:\"))\n",
    "for i in range(n):\n",
    "    list.append(int(input(\"Enter elements:\")))\n",
    "print(\"List elements are:\",list)\n",
    "list.sort()\n",
    "print(\"The sorted elements are:\",list)\n",
    "\n",
    "if n%2==0:\n",
    "    median=list([n//2]+list[n//2-1])/2\n",
    "else:\n",
    "    median=list[n//2]\n",
    "print(\"Median:\",median)\n"
   ]
  },
  {
   "cell_type": "code",
   "execution_count": 19,
   "id": "814cfb8b",
   "metadata": {},
   "outputs": [
    {
     "name": "stdout",
     "output_type": "stream",
     "text": [
      "Enter no of elements:5\n",
      "Enter elements:1\n",
      "Enter elements:2\n",
      "Enter elements:3\n",
      "Enter elements:4\n",
      "Enter elements:5\n",
      "List elements are: [1, 2, 3, 4, 5]\n",
      "[]\n"
     ]
    }
   ],
   "source": [
    "#Mode without using built-in\n",
    "list1=[]\n",
    "n=int(input(\"Enter no of elements:\"))\n",
    "for i in range(n):\n",
    "    list1.append(int(input(\"Enter elements:\")))\n",
    "print(\"List elements are:\",list1)\n",
    "uniq_values = []\n",
    "mode_values = []\n",
    "for i in list1:\n",
    "    if i not in uniq_values:\n",
    "        uniq_values.append(i)\n",
    "    else:\n",
    "        mode_values.append(i)\n",
    "print((\"Mode:\",mode_values))"
   ]
  },
  {
   "cell_type": "code",
   "execution_count": 21,
   "id": "4b00e6b0",
   "metadata": {},
   "outputs": [
    {
     "name": "stdout",
     "output_type": "stream",
     "text": [
      "Enter no of elements:5\n",
      "Enter elements:4\n",
      "Enter elements:4\n",
      "Enter elements:3\n",
      "Enter elements:3\n",
      "Enter elements:2\n",
      "List elements are: [4, 4, 3, 3, 2]\n",
      "Mode: [4, 3]\n"
     ]
    }
   ],
   "source": [
    "import statistics\n",
    "list1=[]\n",
    "n=int(input(\"Enter no of elements:\"))\n",
    "for i in range(n):\n",
    "    list1.append(int(input(\"Enter elements:\")))\n",
    "print(\"List elements are:\",list1)\n",
    "mode=statistics.multimode(list1)\n",
    "print(\"Mode:\",mode)"
   ]
  },
  {
   "cell_type": "code",
   "execution_count": 1,
   "id": "f4260f29",
   "metadata": {},
   "outputs": [
    {
     "name": "stderr",
     "output_type": "stream",
     "text": [
      "C:\\Users\\CCL\\anaconda3\\lib\\site-packages\\numpy\\_distributor_init.py:30: UserWarning: loaded more than 1 DLL from .libs:\n",
      "C:\\Users\\CCL\\anaconda3\\lib\\site-packages\\numpy\\.libs\\libopenblas.xwydx2ikjw2nmtwsfyngfuwkqu3lytcz.gfortran-win_amd64.dll\n",
      "C:\\Users\\CCL\\anaconda3\\lib\\site-packages\\numpy\\.libs\\libopenblas64__v0.3.21-gcc_10_3_0.dll\n",
      "  warnings.warn(\"loaded more than 1 DLL from .libs:\"\n"
     ]
    },
    {
     "data": {
      "image/png": "[encoded data removed]",
      "text/plain": [
       "<Figure size 432x288 with 1 Axes>"
      ]
     },
     "metadata": {
      "needs_background": "light"
     },
     "output_type": "display_data"
    }
   ],
   "source": [
    "import matplotlib.pyplot as plt\n",
    "x = [1, 2, 3, 4, 5,]\n",
    "y = [2, 3, 5, 7, 11]\n",
    "\n",
    "point_color = 'red'\n",
    "plt.scatter(x, y, color=point_color)\n",
    "plt.xlabel('X-axis')\n",
    "plt.ylabel('Y-axis')\n",
    "plt.title('Scatter Plot')\n",
    "plt.show()\n"
   ]
  },
  {
   "cell_type": "code",
   "execution_count": 3,
   "id": "fa07a719",
   "metadata": {},
   "outputs": [
    {
     "data": {
      "image/png": "[encoded data removed]",
      "text/plain": [
       "<Figure size 432x288 with 1 Axes>"
      ]
     },
     "metadata": {},
     "output_type": "display_data"
    }
   ],
   "source": [
    "import matplotlib.pyplot as plt\n",
    "sizes = [20, 30, 50]\n",
    "labels = ['A', 'B', 'C']  \n",
    "colors = ['gold', 'yellowgreen', 'lightcoral']\n",
    "explode = (0, 0.1, 0) \n",
    "\n",
    "plt.pie(sizes, explode=explode, labels=labels, colors=colors, autopct='%1.1f%%', shadow=True, startangle=140)\n",
    "plt.title('Pie Chart Example')\n",
    "plt.show()\n"
   ]
  },
  {
   "cell_type": "code",
   "execution_count": null,
   "id": "3e69758c",
   "metadata": {},
   "outputs": [],
   "source": []
  }
 ],
 "metadata": {
  "kernelspec": {
   "display_name": "Python 3 (ipykernel)",
   "language": "python",
   "name": "python3"
  },
  "language_info": {
   "codemirror_mode": {
    "name": "ipython",
    "version": 3
   },
   "file_extension": ".py",
   "mimetype": "text/x-python",
   "name": "python",
   "nbconvert_exporter": "python",
   "pygments_lexer": "ipython3",
   "version": "3.9.12"
  }
 },
 "nbformat": 4,
 "nbformat_minor": 5
}
